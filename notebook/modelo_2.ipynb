{
 "cells": [
  {
   "cell_type": "code",
   "execution_count": 1,
   "metadata": {},
   "outputs": [],
   "source": [
    "import pandas as pd\n",
    "import pickle\n",
    "\n",
    "import sys\n",
    "sys.path.append(\"../\")\n",
    "import src.soporte as sp"
   ]
  },
  {
   "cell_type": "code",
   "execution_count": 2,
   "metadata": {},
   "outputs": [
    {
     "data": {
      "text/html": [
       "<div>\n",
       "<style scoped>\n",
       "    .dataframe tbody tr th:only-of-type {\n",
       "        vertical-align: middle;\n",
       "    }\n",
       "\n",
       "    .dataframe tbody tr th {\n",
       "        vertical-align: top;\n",
       "    }\n",
       "\n",
       "    .dataframe thead th {\n",
       "        text-align: right;\n",
       "    }\n",
       "</style>\n",
       "<table border=\"1\" class=\"dataframe\">\n",
       "  <thead>\n",
       "    <tr style=\"text-align: right;\">\n",
       "      <th></th>\n",
       "      <th>id</th>\n",
       "      <th>carat</th>\n",
       "      <th>cut</th>\n",
       "      <th>color</th>\n",
       "      <th>clarity</th>\n",
       "      <th>depth</th>\n",
       "      <th>table</th>\n",
       "      <th>x</th>\n",
       "      <th>y</th>\n",
       "      <th>z</th>\n",
       "      <th>price</th>\n",
       "    </tr>\n",
       "  </thead>\n",
       "  <tbody>\n",
       "    <tr>\n",
       "      <th>0</th>\n",
       "      <td>0</td>\n",
       "      <td>0.30</td>\n",
       "      <td>Premium</td>\n",
       "      <td>D</td>\n",
       "      <td>SI2</td>\n",
       "      <td>62.4</td>\n",
       "      <td>58.0</td>\n",
       "      <td>4.31</td>\n",
       "      <td>4.28</td>\n",
       "      <td>2.68</td>\n",
       "      <td>6.353</td>\n",
       "    </tr>\n",
       "    <tr>\n",
       "      <th>1</th>\n",
       "      <td>1</td>\n",
       "      <td>1.01</td>\n",
       "      <td>Ideal</td>\n",
       "      <td>E</td>\n",
       "      <td>VVS2</td>\n",
       "      <td>62.7</td>\n",
       "      <td>56.0</td>\n",
       "      <td>6.42</td>\n",
       "      <td>6.46</td>\n",
       "      <td>4.04</td>\n",
       "      <td>9.183</td>\n",
       "    </tr>\n",
       "  </tbody>\n",
       "</table>\n",
       "</div>"
      ],
      "text/plain": [
       "   id  carat      cut color clarity  depth  table     x     y     z  price\n",
       "0   0   0.30  Premium     D     SI2   62.4   58.0  4.31  4.28  2.68  6.353\n",
       "1   1   1.01    Ideal     E    VVS2   62.7   56.0  6.42  6.46  4.04  9.183"
      ]
     },
     "execution_count": 2,
     "metadata": {},
     "output_type": "execute_result"
    }
   ],
   "source": [
    "# Importamos nuestros datos\n",
    "df = pd.read_csv(\"../data/train.csv\")\n",
    "df.head(2)"
   ]
  },
  {
   "cell_type": "code",
   "execution_count": 3,
   "metadata": {},
   "outputs": [],
   "source": [
    "# Eliminamos la columna que no vamos a usar\n",
    "df.drop([\"id\"], axis = 1, inplace = True)"
   ]
  },
  {
   "cell_type": "code",
   "execution_count": 4,
   "metadata": {},
   "outputs": [],
   "source": [
    "# Eliminamos las variables poco relevantes, en mi caso, aunque carat, englobe \"x\", \"y\", \"z\", voy a probar con este enfoque\n",
    "df.drop([\"depth\", \"table\", \"carat\"], axis = 1, inplace = True)"
   ]
  },
  {
   "cell_type": "code",
   "execution_count": 5,
   "metadata": {},
   "outputs": [
    {
     "name": "stderr",
     "output_type": "stream",
     "text": [
      "100%|██████████| 3/3 [00:00<00:00, 374.97it/s]\n"
     ]
    }
   ],
   "source": [
    "# Con una función, eliminamos los outliers para tratarlos después\n",
    "out = sp.detectar_outliers(df, \"price\")"
   ]
  },
  {
   "cell_type": "code",
   "execution_count": 6,
   "metadata": {},
   "outputs": [
    {
     "name": "stderr",
     "output_type": "stream",
     "text": [
      "100%|██████████| 3/3 [00:00<00:00, 747.34it/s]\n"
     ]
    }
   ],
   "source": [
    "# Sustituimos los outliers por nulos para después procesarlos\n",
    "df_sin_out = sp.tratar_outliers(df, out, \"null\")"
   ]
  },
  {
   "cell_type": "code",
   "execution_count": 7,
   "metadata": {},
   "outputs": [],
   "source": [
    "# Tratamos los nulos con el método IterativeImputer\n",
    "df2 = sp.tratamiento_nulos_num(df_sin_out, metodo = \"iterative\", respuesta = \"price\")"
   ]
  },
  {
   "cell_type": "code",
   "execution_count": 8,
   "metadata": {},
   "outputs": [
    {
     "name": "stderr",
     "output_type": "stream",
     "text": [
      "100%|██████████| 3/3 [00:00<00:00, 206.68it/s]\n"
     ]
    }
   ],
   "source": [
    "# Realizamos encoding de las variables categóricas de forma label a ver que pasa\n",
    "encoding = {\"cut\": \"label\",\n",
    "        \"color\": \"label\",\n",
    "        \"clarity\": \"label\"}\n",
    "df_enconded = sp.encoder(df2, encoding, modelo = 2)"
   ]
  },
  {
   "cell_type": "code",
   "execution_count": 9,
   "metadata": {},
   "outputs": [],
   "source": [
    "# Buscamos los parámetros base posibles para nuestros árboles\n",
    "parametros = sp.mejores_parametros_num(df_enconded, \"price\")"
   ]
  },
  {
   "cell_type": "code",
   "execution_count": 10,
   "metadata": {},
   "outputs": [
    {
     "data": {
      "text/plain": [
       "{'max_depth': 20,\n",
       " 'max_features': 3,\n",
       " 'min_samples_leaf': 25,\n",
       " 'min_samples_split': 25}"
      ]
     },
     "execution_count": 10,
     "metadata": {},
     "output_type": "execute_result"
    }
   ],
   "source": [
    "parametros"
   ]
  },
  {
   "cell_type": "code",
   "execution_count": 11,
   "metadata": {},
   "outputs": [],
   "source": [
    "new_parametros = {\"max_depth\" : [2, 3, 4 ,5 , 6]+ [x for x in range(6, parametros[\"max_depth\"] + 1, 4)],\n",
    "                  \"max_features\": [1, 2, 3, 4],\n",
    "                  \"min_samples_leaf\": [20, 40, 60, 80],\n",
    "                  \"min_samples_split\": [20, 40, 60, 80]}"
   ]
  },
  {
   "cell_type": "code",
   "execution_count": 12,
   "metadata": {},
   "outputs": [
    {
     "name": "stderr",
     "output_type": "stream",
     "text": [
      "100%|██████████| 4/4 [41:12<00:00, 618.21s/it]\n"
     ]
    }
   ],
   "source": [
    "# Entrenamos cuatro modelos distintos para comparar sus métricas\n",
    "metricas = sp.modelos_num(df_enconded, \"price\", lista = [\"tree\", \"forest\", \"knn\", \"gradient\"], parametros_tree = new_parametros, scoring = \"neg_mean_squared_error\", modelo = 2)"
   ]
  },
  {
   "cell_type": "code",
   "execution_count": 13,
   "metadata": {},
   "outputs": [
    {
     "data": {
      "text/html": [
       "<div>\n",
       "<style scoped>\n",
       "    .dataframe tbody tr th:only-of-type {\n",
       "        vertical-align: middle;\n",
       "    }\n",
       "\n",
       "    .dataframe tbody tr th {\n",
       "        vertical-align: top;\n",
       "    }\n",
       "\n",
       "    .dataframe thead th {\n",
       "        text-align: right;\n",
       "    }\n",
       "</style>\n",
       "<table border=\"1\" class=\"dataframe\">\n",
       "  <thead>\n",
       "    <tr style=\"text-align: right;\">\n",
       "      <th></th>\n",
       "      <th>MAE</th>\n",
       "      <th>MSE</th>\n",
       "      <th>RMSE</th>\n",
       "      <th>R2</th>\n",
       "      <th>set</th>\n",
       "      <th>modelo</th>\n",
       "    </tr>\n",
       "  </thead>\n",
       "  <tbody>\n",
       "    <tr>\n",
       "      <th>0</th>\n",
       "      <td>0.093254</td>\n",
       "      <td>0.017723</td>\n",
       "      <td>0.133128</td>\n",
       "      <td>0.982646</td>\n",
       "      <td>test</td>\n",
       "      <td>Decision_Tree 2</td>\n",
       "    </tr>\n",
       "    <tr>\n",
       "      <th>1</th>\n",
       "      <td>0.085066</td>\n",
       "      <td>0.014826</td>\n",
       "      <td>0.121763</td>\n",
       "      <td>0.985703</td>\n",
       "      <td>train</td>\n",
       "      <td>Decision_Tree 2</td>\n",
       "    </tr>\n",
       "    <tr>\n",
       "      <th>0</th>\n",
       "      <td>0.081903</td>\n",
       "      <td>0.013743</td>\n",
       "      <td>0.117231</td>\n",
       "      <td>0.986543</td>\n",
       "      <td>test</td>\n",
       "      <td>Random_Forest 2</td>\n",
       "    </tr>\n",
       "    <tr>\n",
       "      <th>1</th>\n",
       "      <td>0.077499</td>\n",
       "      <td>0.012675</td>\n",
       "      <td>0.112582</td>\n",
       "      <td>0.987778</td>\n",
       "      <td>train</td>\n",
       "      <td>Random_Forest 2</td>\n",
       "    </tr>\n",
       "    <tr>\n",
       "      <th>0</th>\n",
       "      <td>0.079777</td>\n",
       "      <td>0.014740</td>\n",
       "      <td>0.121409</td>\n",
       "      <td>0.985567</td>\n",
       "      <td>test</td>\n",
       "      <td>KNN 2</td>\n",
       "    </tr>\n",
       "    <tr>\n",
       "      <th>1</th>\n",
       "      <td>0.054540</td>\n",
       "      <td>0.006765</td>\n",
       "      <td>0.082251</td>\n",
       "      <td>0.993476</td>\n",
       "      <td>train</td>\n",
       "      <td>KNN 2</td>\n",
       "    </tr>\n",
       "    <tr>\n",
       "      <th>0</th>\n",
       "      <td>0.064670</td>\n",
       "      <td>0.008470</td>\n",
       "      <td>0.092035</td>\n",
       "      <td>0.991706</td>\n",
       "      <td>test</td>\n",
       "      <td>Gradient_Booster 2</td>\n",
       "    </tr>\n",
       "    <tr>\n",
       "      <th>1</th>\n",
       "      <td>0.051235</td>\n",
       "      <td>0.005151</td>\n",
       "      <td>0.071768</td>\n",
       "      <td>0.995033</td>\n",
       "      <td>train</td>\n",
       "      <td>Gradient_Booster 2</td>\n",
       "    </tr>\n",
       "  </tbody>\n",
       "</table>\n",
       "</div>"
      ],
      "text/plain": [
       "        MAE       MSE      RMSE        R2    set              modelo\n",
       "0  0.093254  0.017723  0.133128  0.982646   test     Decision_Tree 2\n",
       "1  0.085066  0.014826  0.121763  0.985703  train     Decision_Tree 2\n",
       "0  0.081903  0.013743  0.117231  0.986543   test     Random_Forest 2\n",
       "1  0.077499  0.012675  0.112582  0.987778  train     Random_Forest 2\n",
       "0  0.079777  0.014740  0.121409  0.985567   test               KNN 2\n",
       "1  0.054540  0.006765  0.082251  0.993476  train               KNN 2\n",
       "0  0.064670  0.008470  0.092035  0.991706   test  Gradient_Booster 2\n",
       "1  0.051235  0.005151  0.071768  0.995033  train  Gradient_Booster 2"
      ]
     },
     "execution_count": 13,
     "metadata": {},
     "output_type": "execute_result"
    }
   ],
   "source": [
    "# En este caso, cargo las métricas para no regenerar los modelos(mucho tiempo)\n",
    "with open('../data/metricas_2.pkl', 'rb') as metri:\n",
    "    metricas = pickle.load(metri)\n",
    "# Comparamos las métricas, en este caso, los modelos son interesantes.    \n",
    "metricas"
   ]
  },
  {
   "cell_type": "code",
   "execution_count": 14,
   "metadata": {},
   "outputs": [
    {
     "name": "stderr",
     "output_type": "stream",
     "text": [
      "100%|██████████| 2/2 [40:20<00:00, 1210.11s/it]\n"
     ]
    }
   ],
   "source": [
    "# Entrenamos de nuevo esos modelos pero esta vez con todos los datos\n",
    "metricas = sp.modelos_num(df_enconded, \"price\", lista = [\"knn\", \"gradient\"], parametros_tree = new_parametros, scoring = \"neg_mean_squared_error\", comparativa = False, modelo = 2)"
   ]
  }
 ],
 "metadata": {
  "kernelspec": {
   "display_name": "base",
   "language": "python",
   "name": "python3"
  },
  "language_info": {
   "codemirror_mode": {
    "name": "ipython",
    "version": 3
   },
   "file_extension": ".py",
   "mimetype": "text/x-python",
   "name": "python",
   "nbconvert_exporter": "python",
   "pygments_lexer": "ipython3",
   "version": "3.9.12"
  },
  "orig_nbformat": 4
 },
 "nbformat": 4,
 "nbformat_minor": 2
}
