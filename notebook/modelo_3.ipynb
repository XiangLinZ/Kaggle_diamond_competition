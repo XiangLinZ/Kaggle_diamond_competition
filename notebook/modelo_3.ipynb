{
 "cells": [
  {
   "cell_type": "code",
   "execution_count": null,
   "metadata": {},
   "outputs": [],
   "source": [
    "import pandas as pd\n",
    "import pickle\n",
    "\n",
    "import sys\n",
    "sys.path.append(\"../\")\n",
    "import src.soporte as sp"
   ]
  },
  {
   "cell_type": "code",
   "execution_count": null,
   "metadata": {},
   "outputs": [],
   "source": [
    "# Importamos nuestros datos\n",
    "df = pd.read_csv(\"../data/train.csv\")\n",
    "df.head(2)"
   ]
  },
  {
   "cell_type": "code",
   "execution_count": null,
   "metadata": {},
   "outputs": [],
   "source": [
    "# Eliminamos la columna que no vamos a usar\n",
    "df.drop([\"id\"], axis = 1, inplace = True)"
   ]
  },
  {
   "cell_type": "code",
   "execution_count": null,
   "metadata": {},
   "outputs": [],
   "source": [
    "# Eliminamos las variables poco relevantes, en mi caso, carat engloba \"x\", \"y\", \"z\", voy a probar con este enfoque\n",
    "df.drop([\"depth\", \"table\", \"x\", \"y\", \"z\"], axis = 1, inplace = True)"
   ]
  },
  {
   "cell_type": "code",
   "execution_count": null,
   "metadata": {},
   "outputs": [],
   "source": [
    "# Con una función, eliminamos los outliers de manera personalizada\n",
    "especial = {\"x\" : {\"top\" : 15},\n",
    "            \"y\" : {\"top\" : 20},\n",
    "            \"z\" : {\"top\" : 10}}\n",
    "out = sp.detectar_outliers(df, \"price\", especial)"
   ]
  },
  {
   "cell_type": "code",
   "execution_count": null,
   "metadata": {},
   "outputs": [],
   "source": [
    "# Sustituimos los outliers por nulos para después procesarlos\n",
    "df_sin_out = sp.tratar_outliers(df, out, \"null\")"
   ]
  },
  {
   "cell_type": "code",
   "execution_count": null,
   "metadata": {},
   "outputs": [],
   "source": [
    "# Tratamos los nulos con el método IterativeImputer\n",
    "df2 = sp.tratamiento_nulos_num(df_sin_out, metodo = \"iterative\", respuesta = \"price\")"
   ]
  },
  {
   "cell_type": "code",
   "execution_count": null,
   "metadata": {},
   "outputs": [],
   "source": [
    "# Realizamos encoding de las variables categóricas de forma label a ver que pasa\n",
    "encoding = {\"cut\": \"label\",\n",
    "        \"color\": \"label\",\n",
    "        \"clarity\": \"label\"}\n",
    "df_enconded = sp.encoder(df2, encoding, modelo = 3)"
   ]
  },
  {
   "cell_type": "code",
   "execution_count": null,
   "metadata": {},
   "outputs": [],
   "source": [
    "# Buscamos los parámetros base posibles para nuestros árboles\n",
    "parametros = sp.mejores_parametros_num(df_enconded, \"price\")"
   ]
  },
  {
   "cell_type": "code",
   "execution_count": null,
   "metadata": {},
   "outputs": [],
   "source": [
    "parametros"
   ]
  },
  {
   "cell_type": "code",
   "execution_count": null,
   "metadata": {},
   "outputs": [],
   "source": [
    "new_parametros = {\"max_depth\" : [2, 3, 4 ,5 , 6]+ [x for x in range(6, parametros[\"max_depth\"] + 1, 4)],\n",
    "                  \"max_features\": [1, 2, 3, 4],\n",
    "                  \"min_samples_leaf\": [20, 40, 60, 80],\n",
    "                  \"min_samples_split\": [20, 40, 60, 80]}"
   ]
  },
  {
   "cell_type": "code",
   "execution_count": null,
   "metadata": {},
   "outputs": [],
   "source": [
    "# Entrenamos cuatro modelos distintos para comparar sus métricas\n",
    "metricas = sp.modelos_num(df_enconded, \"price\", lista = [\"knn\", \"gradient\"], parametros_tree = new_parametros, scoring = \"neg_mean_squared_error\", modelo = 2)"
   ]
  },
  {
   "cell_type": "code",
   "execution_count": null,
   "metadata": {},
   "outputs": [],
   "source": [
    "# En este caso, cargo las métricas para no regenerar los modelos(mucho tiempo)\n",
    "with open('../data/metricas_2.pkl', 'rb') as metri:\n",
    "    metricas = pickle.load(metri)\n",
    "# Comparamos las métricas, en este caso, los modelos son interesantes.    \n",
    "metricas"
   ]
  },
  {
   "cell_type": "code",
   "execution_count": null,
   "metadata": {},
   "outputs": [],
   "source": [
    "# Entrenamos de nuevo esos modelos pero esta vez con todos los datos\n",
    "metricas = sp.modelos_num(df_enconded, \"price\", lista = [\"knn\", \"gradient\"], parametros_tree = new_parametros, scoring = \"neg_mean_squared_error\", comparativa = False, modelo = 2)"
   ]
  },
  {
   "cell_type": "code",
   "execution_count": null,
   "metadata": {},
   "outputs": [],
   "source": []
  }
 ],
 "metadata": {
  "language_info": {
   "name": "python"
  },
  "orig_nbformat": 4
 },
 "nbformat": 4,
 "nbformat_minor": 2
}
