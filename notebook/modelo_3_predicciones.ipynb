{
 "cells": [
  {
   "cell_type": "code",
   "execution_count": 1,
   "metadata": {},
   "outputs": [],
   "source": [
    "import pandas as pd\n",
    "import numpy as np\n",
    "import pickle\n",
    "\n",
    "import sys\n",
    "sys.path.append(\"../\")\n",
    "import src.soporte as sp"
   ]
  },
  {
   "cell_type": "code",
   "execution_count": 2,
   "metadata": {},
   "outputs": [],
   "source": [
    "# Cargamos nuestros encoders y nuestros modelos\n",
    "with open('../data/modelo_KNN_v3.pkl', 'rb') as knn0:\n",
    "    knn3 = pickle.load(knn0)\n",
    "\n",
    "with open('../data/modelo_Gradient_Booster_v3.pkl', 'rb') as gradient0:\n",
    "    gradient3 = pickle.load(gradient0)\n",
    "\n",
    "with open('../data/encoding_clarity_3.pkl', 'rb') as clarity0:\n",
    "    clarity_encode = pickle.load(clarity0)\n",
    "\n",
    "with open('../data/encoding_color_3.pkl', 'rb') as color0:\n",
    "    color_encode = pickle.load(color0)\n",
    "\n",
    "with open('../data/encoding_cut_3.pkl', 'rb') as cut0:\n",
    "    cut_encode = pickle.load(cut0)\n",
    "\n",
    "test = pd.read_csv(\"../data/test.csv\")"
   ]
  },
  {
   "cell_type": "code",
   "execution_count": 3,
   "metadata": {},
   "outputs": [
    {
     "data": {
      "text/html": [
       "<div>\n",
       "<style scoped>\n",
       "    .dataframe tbody tr th:only-of-type {\n",
       "        vertical-align: middle;\n",
       "    }\n",
       "\n",
       "    .dataframe tbody tr th {\n",
       "        vertical-align: top;\n",
       "    }\n",
       "\n",
       "    .dataframe thead th {\n",
       "        text-align: right;\n",
       "    }\n",
       "</style>\n",
       "<table border=\"1\" class=\"dataframe\">\n",
       "  <thead>\n",
       "    <tr style=\"text-align: right;\">\n",
       "      <th></th>\n",
       "      <th>carat</th>\n",
       "      <th>cut</th>\n",
       "      <th>color</th>\n",
       "      <th>clarity</th>\n",
       "    </tr>\n",
       "  </thead>\n",
       "  <tbody>\n",
       "    <tr>\n",
       "      <th>0</th>\n",
       "      <td>0.32</td>\n",
       "      <td>Ideal</td>\n",
       "      <td>I</td>\n",
       "      <td>SI1</td>\n",
       "    </tr>\n",
       "    <tr>\n",
       "      <th>1</th>\n",
       "      <td>1.24</td>\n",
       "      <td>Premium</td>\n",
       "      <td>I</td>\n",
       "      <td>SI1</td>\n",
       "    </tr>\n",
       "  </tbody>\n",
       "</table>\n",
       "</div>"
      ],
      "text/plain": [
       "   carat      cut color clarity\n",
       "0   0.32    Ideal     I     SI1\n",
       "1   1.24  Premium     I     SI1"
      ]
     },
     "execution_count": 3,
     "metadata": {},
     "output_type": "execute_result"
    }
   ],
   "source": [
    "# Eliminamos las columnas que no usan nuestros modelos\n",
    "test.drop([\"id\", \"depth\", \"table\", \"x\", \"y\", \"z\"], axis = 1, inplace = True)\n",
    "test.head(2)"
   ]
  },
  {
   "cell_type": "code",
   "execution_count": 4,
   "metadata": {},
   "outputs": [],
   "source": [
    "# Encodeamos tranquilamente\n",
    "test[\"cut\"] = cut_encode.transform(test[[\"cut\"]])\n",
    "test[\"color\"] = color_encode.transform(test[[\"color\"]])\n",
    "test[\"clarity\"] = clarity_encode.transform(test[[\"clarity\"]])"
   ]
  },
  {
   "cell_type": "code",
   "execution_count": 5,
   "metadata": {},
   "outputs": [],
   "source": [
    "# Realizamos el mismo proceso con nuestro primer modelo\n",
    "test_knn3 = pd.DataFrame(knn3.predict(test))\n",
    "test_knn3 = test_knn3.reset_index()\n",
    "test_knn3.columns = [\"id\", \"price\"]\n",
    "test_knn3.to_csv(\"../data/test_knn_3.csv\", index = False)"
   ]
  },
  {
   "cell_type": "code",
   "execution_count": 6,
   "metadata": {},
   "outputs": [],
   "source": [
    "# Realizamos el mismo proceso con nuestro segundo modelo\n",
    "test_gradient_3 = pd.DataFrame(gradient3.predict(test))\n",
    "test_gradient_3 = test_gradient_3.reset_index()\n",
    "test_gradient_3.columns = [\"id\", \"price\"]\n",
    "test_gradient_3.to_csv(\"../data/test_gradient_3.csv\", index = False)"
   ]
  }
 ],
 "metadata": {
  "kernelspec": {
   "display_name": "base",
   "language": "python",
   "name": "python3"
  },
  "language_info": {
   "codemirror_mode": {
    "name": "ipython",
    "version": 3
   },
   "file_extension": ".py",
   "mimetype": "text/x-python",
   "name": "python",
   "nbconvert_exporter": "python",
   "pygments_lexer": "ipython3",
   "version": "3.9.12"
  },
  "orig_nbformat": 4
 },
 "nbformat": 4,
 "nbformat_minor": 2
}
